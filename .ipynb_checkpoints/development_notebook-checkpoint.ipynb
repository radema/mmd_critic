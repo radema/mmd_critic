{
 "cells": [
  {
   "cell_type": "code",
   "execution_count": 1,
   "id": "d265fad0-cb83-40a6-8430-bf743ad06a7f",
   "metadata": {},
   "outputs": [],
   "source": [
    "import numpy as np"
   ]
  },
  {
   "cell_type": "code",
   "execution_count": 4,
   "id": "0e03354e-4dfa-4044-88d0-43b2b15f5341",
   "metadata": {},
   "outputs": [],
   "source": [
    "from functions import *"
   ]
  },
  {
   "cell_type": "code",
   "execution_count": 5,
   "id": "813f1ab9-8298-4887-af01-8e769fc62783",
   "metadata": {},
   "outputs": [],
   "source": [
    "from numpy.random import standard_normal,standard_gamma"
   ]
  },
  {
   "cell_type": "code",
   "execution_count": 143,
   "id": "c7249a3e-e16f-40fa-982d-a032f7618cc9",
   "metadata": {},
   "outputs": [],
   "source": [
    "n_samples = 300\n",
    "\n",
    "X = np.random.multivariate_normal([1,1], [[1, 0], [0, 10]], n_samples) + 1 + standard_gamma(20,(n_samples,2))*0.2"
   ]
  },
  {
   "cell_type": "code",
   "execution_count": 144,
   "id": "ad1ca2a9-dd15-4d85-97b6-b283e31dd5a0",
   "metadata": {},
   "outputs": [],
   "source": [
    "n_z = 6\n",
    "n_w = 6\n",
    "alpha = 0.3"
   ]
  },
  {
   "cell_type": "code",
   "execution_count": 145,
   "id": "ac6efe12-20d9-477d-9484-06e82abf1c47",
   "metadata": {},
   "outputs": [],
   "source": [
    "z = find_prototypes(X,n_z, record = True)"
   ]
  },
  {
   "cell_type": "code",
   "execution_count": 146,
   "id": "2f55b033-dc90-413f-ac7b-9ae19fe537c6",
   "metadata": {},
   "outputs": [
    {
     "data": {
      "text/plain": [
       "(array([[5.8576483 , 7.63712622],\n",
       "        [6.14319766, 4.20997301],\n",
       "        [6.67217752, 9.9314639 ],\n",
       "        [4.49748413, 5.87642532],\n",
       "        [7.38720315, 5.91729588],\n",
       "        [5.87181306, 2.01045536]]),\n",
       " 0.05045742348339882,\n",
       " [(0.7657220212888541, 1),\n",
       "  (0.2927760861427244, 2),\n",
       "  (0.17310953234568388, 3),\n",
       "  (0.1144667248398249, 4),\n",
       "  (0.07687538635692198, 5),\n",
       "  (0.05045742348339882, 6)])"
      ]
     },
     "execution_count": 146,
     "metadata": {},
     "output_type": "execute_result"
    }
   ],
   "source": [
    "z"
   ]
  },
  {
   "cell_type": "code",
   "execution_count": 147,
   "id": "4cf232bb-af8e-4fe4-96ef-cd9a9350260a",
   "metadata": {},
   "outputs": [],
   "source": [
    "w = find_critics(X,z[0],n_w,alpha = alpha, record = True)"
   ]
  },
  {
   "cell_type": "code",
   "execution_count": 148,
   "id": "73b9f628-22ac-4487-9626-2344f6d3d11c",
   "metadata": {},
   "outputs": [
    {
     "data": {
      "text/plain": [
       "(array([[ 7.0156836 ,  7.89567687],\n",
       "        [ 7.05697616,  0.90832287],\n",
       "        [ 3.52263348,  4.65394773],\n",
       "        [ 8.62293991, 15.52490356],\n",
       "        [ 4.96123454, -2.71445568],\n",
       "        [ 4.68346953, 13.53419655]]),\n",
       " -0.05001297719696887,\n",
       " [(-0.3000000147606738, 1),\n",
       "  (-0.1500004786180476, 2),\n",
       "  (-0.10000106856961709, 3),\n",
       "  (-0.07500293592177032, 4),\n",
       "  (-0.06000845262981081, 5),\n",
       "  (-0.05001297719696887, 6)])"
      ]
     },
     "execution_count": 148,
     "metadata": {},
     "output_type": "execute_result"
    }
   ],
   "source": [
    "w"
   ]
  },
  {
   "cell_type": "code",
   "execution_count": 149,
   "id": "e470a47c-1968-49d9-bf42-6c77b9247844",
   "metadata": {},
   "outputs": [],
   "source": [
    "from matplotlib import pyplot as plt"
   ]
  },
  {
   "cell_type": "code",
   "execution_count": 150,
   "id": "c59620cd-1dec-49ed-81b4-374c22a355db",
   "metadata": {},
   "outputs": [
    {
     "data": {
      "image/png": "[encoded data removed]",
      "text/plain": [
       "<Figure size 432x288 with 1 Axes>"
      ]
     },
     "metadata": {
      "needs_background": "light"
     },
     "output_type": "display_data"
    }
   ],
   "source": [
    "plt.scatter(X.transpose()[0],\n",
    "           X.transpose()[1]\n",
    "           )\n",
    "plt.scatter(z[0].transpose()[0],\n",
    "            z[0].transpose()[1])\n",
    "plt.scatter(w[0].transpose()[0],\n",
    "            w[0].transpose()[1])\n",
    "plt.show()"
   ]
  },
  {
   "cell_type": "code",
   "execution_count": null,
   "id": "750d1541-12aa-478f-891e-fee05a473ad3",
   "metadata": {},
   "outputs": [],
   "source": [
    "z"
   ]
  },
  {
   "cell_type": "code",
   "execution_count": null,
   "id": "d386a7b4-bdf2-4605-bcfb-0eb31c3d3bb9",
   "metadata": {},
   "outputs": [],
   "source": []
  },
  {
   "cell_type": "code",
   "execution_count": null,
   "id": "e4201024-e808-425d-9128-80942451abc6",
   "metadata": {},
   "outputs": [],
   "source": []
  }
 ],
 "metadata": {
  "kernelspec": {
   "display_name": "Python 3 (ipykernel)",
   "language": "python",
   "name": "python3"
  },
  "language_info": {
   "codemirror_mode": {
    "name": "ipython",
    "version": 3
   },
   "file_extension": ".py",
   "mimetype": "text/x-python",
   "name": "python",
   "nbconvert_exporter": "python",
   "pygments_lexer": "ipython3",
   "version": "3.8.13"
  }
 },
 "nbformat": 4,
 "nbformat_minor": 5
}
