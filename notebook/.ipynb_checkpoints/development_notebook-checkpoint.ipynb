{
 "cells": [
  {
   "cell_type": "code",
   "execution_count": 1,
   "id": "d265fad0-cb83-40a6-8430-bf743ad06a7f",
   "metadata": {},
   "outputs": [],
   "source": [
    "import numpy as np"
   ]
  },
  {
   "cell_type": "code",
   "execution_count": 2,
   "id": "0e03354e-4dfa-4044-88d0-43b2b15f5341",
   "metadata": {},
   "outputs": [],
   "source": [
    "import sys\n",
    "sys.path.append('../')\n",
    "from mmdcritic.myfunctions import *"
   ]
  },
  {
   "cell_type": "code",
   "execution_count": 3,
   "id": "813f1ab9-8298-4887-af01-8e769fc62783",
   "metadata": {},
   "outputs": [],
   "source": [
    "from numpy.random import standard_normal,standard_gamma"
   ]
  },
  {
   "cell_type": "code",
   "execution_count": 90,
   "id": "c7249a3e-e16f-40fa-982d-a032f7618cc9",
   "metadata": {},
   "outputs": [],
   "source": [
    "n_samples = 500\n",
    "\n",
    "X1 = np.random.multivariate_normal([1,1], [[1, 0], [0, 1]], n_samples) \n",
    "X2 = np.random.multivariate_normal([-1,-1], [[0.1, 0], [0, 0.1]], n_samples)\n",
    "X = np.concatenate([X1,X2])"
   ]
  },
  {
   "cell_type": "code",
   "execution_count": 105,
   "id": "ad1ca2a9-dd15-4d85-97b6-b283e31dd5a0",
   "metadata": {},
   "outputs": [],
   "source": [
    "n_z = 2\n",
    "n_w = 3\n",
    "alpha = 1"
   ]
  },
  {
   "cell_type": "code",
   "execution_count": 99,
   "id": "ac6efe12-20d9-477d-9484-06e82abf1c47",
   "metadata": {},
   "outputs": [],
   "source": [
    "z = find_prototypes(X,n_z, record = True)"
   ]
  },
  {
   "cell_type": "code",
   "execution_count": 100,
   "id": "2f55b033-dc90-413f-ac7b-9ae19fe537c6",
   "metadata": {},
   "outputs": [
    {
     "data": {
      "text/plain": [
       "(array([[-0.95819332, -0.91069058],\n",
       "        [ 0.99193951,  1.15673451]]),\n",
       " 0.23126686169316168,\n",
       " [(-0.029761627405498037, 1), (0.23126686169316168, 2)])"
      ]
     },
     "execution_count": 100,
     "metadata": {},
     "output_type": "execute_result"
    }
   ],
   "source": [
    "z"
   ]
  },
  {
   "cell_type": "code",
   "execution_count": 106,
   "id": "4cf232bb-af8e-4fe4-96ef-cd9a9350260a",
   "metadata": {},
   "outputs": [],
   "source": [
    "w = find_critics(X,z[0],n_w,alpha = alpha, record = True)"
   ]
  },
  {
   "cell_type": "code",
   "execution_count": 107,
   "id": "73b9f628-22ac-4487-9626-2344f6d3d11c",
   "metadata": {},
   "outputs": [
    {
     "data": {
      "text/plain": [
       "(array([[ 0.96578805,  1.19487716],\n",
       "        [ 1.69839953, -1.18095305],\n",
       "        [ 3.3767307 ,  0.87835871]]),\n",
       " 0.3230498462226082,\n",
       " [(0.25390475099104365, 1), (0.2944407497329322, 2), (0.3230498462226082, 3)])"
      ]
     },
     "execution_count": 107,
     "metadata": {},
     "output_type": "execute_result"
    }
   ],
   "source": [
    "w"
   ]
  },
  {
   "cell_type": "code",
   "execution_count": 108,
   "id": "e470a47c-1968-49d9-bf42-6c77b9247844",
   "metadata": {},
   "outputs": [],
   "source": [
    "from matplotlib import pyplot as plt"
   ]
  },
  {
   "cell_type": "code",
   "execution_count": 109,
   "id": "c59620cd-1dec-49ed-81b4-374c22a355db",
   "metadata": {},
   "outputs": [
    {
     "data": {
      "image/png": "[encoded data removed]",
      "text/plain": [
       "<Figure size 432x288 with 1 Axes>"
      ]
     },
     "metadata": {
      "needs_background": "light"
     },
     "output_type": "display_data"
    }
   ],
   "source": [
    "plt.scatter(X.transpose()[0],\n",
    "           X.transpose()[1]\n",
    "           )\n",
    "plt.scatter(z[0].transpose()[0],\n",
    "            z[0].transpose()[1])\n",
    "plt.scatter(w[0].transpose()[0],\n",
    "            w[0].transpose()[1])\n",
    "plt.show()"
   ]
  },
  {
   "cell_type": "code",
   "execution_count": null,
   "id": "d386a7b4-bdf2-4605-bcfb-0eb31c3d3bb9",
   "metadata": {},
   "outputs": [],
   "source": []
  },
  {
   "cell_type": "code",
   "execution_count": null,
   "id": "e4201024-e808-425d-9128-80942451abc6",
   "metadata": {},
   "outputs": [],
   "source": []
  }
 ],
 "metadata": {
  "kernelspec": {
   "display_name": "Python 3 (ipykernel)",
   "language": "python",
   "name": "python3"
  },
  "language_info": {
   "codemirror_mode": {
    "name": "ipython",
    "version": 3
   },
   "file_extension": ".py",
   "mimetype": "text/x-python",
   "name": "python",
   "nbconvert_exporter": "python",
   "pygments_lexer": "ipython3",
   "version": "3.8.13"
  }
 },
 "nbformat": 4,
 "nbformat_minor": 5
}
