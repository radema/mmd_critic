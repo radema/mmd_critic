{
 "cells": [
  {
   "cell_type": "markdown",
   "id": "36a0b495-9e29-457c-8b38-09e133dfbc89",
   "metadata": {},
   "source": [
    "# Example: Wine Dataset"
   ]
  },
  {
   "cell_type": "code",
   "execution_count": 1,
   "id": "120fd67f-5e7a-4495-ae42-e1bd987e8283",
   "metadata": {},
   "outputs": [],
   "source": [
    "from sklearn.datasets import load_wine\n",
    "X = load_wine()"
   ]
  },
  {
   "cell_type": "code",
   "execution_count": 3,
   "id": "ce641179-4e2d-43f8-a80a-118dd2ccd329",
   "metadata": {},
   "outputs": [],
   "source": [
    "import sys\n",
    "sys.path.append('../')\n",
    "from mmdcritic.myfunctions import *"
   ]
  },
  {
   "cell_type": "code",
   "execution_count": 8,
   "id": "2d069fbb-7fe9-47eb-96fc-773142d5171f",
   "metadata": {},
   "outputs": [
    {
     "data": {
      "text/plain": [
       "dict_keys(['data', 'target', 'frame', 'target_names', 'DESCR', 'feature_names'])"
      ]
     },
     "execution_count": 8,
     "metadata": {},
     "output_type": "execute_result"
    }
   ],
   "source": [
    "X.keys()"
   ]
  },
  {
   "cell_type": "code",
   "execution_count": 9,
   "id": "371f3207-2777-4b8a-82a2-6afd898504e6",
   "metadata": {},
   "outputs": [],
   "source": [
    "data = X['data']\n",
    "target = X['target']\n",
    "target_names = X['target_names']\n",
    "features_names = X['feature_names']"
   ]
  },
  {
   "cell_type": "code",
   "execution_count": 11,
   "id": "625c72f7-8244-435a-ba26-ff085625429e",
   "metadata": {},
   "outputs": [
    {
     "ename": "TypeError",
     "evalue": "find_prototypes() got an unexpected keyword argument 'metric'",
     "output_type": "error",
     "traceback": [
      "\u001b[0;31m---------------------------------------------------------------------------\u001b[0m",
      "\u001b[0;31mTypeError\u001b[0m                                 Traceback (most recent call last)",
      "Input \u001b[0;32mIn [11]\u001b[0m, in \u001b[0;36m<cell line: 1>\u001b[0;34m()\u001b[0m\n\u001b[0;32m----> 1\u001b[0m \u001b[43mmmd_critic\u001b[49m\u001b[43m(\u001b[49m\u001b[43mdata\u001b[49m\u001b[43m,\u001b[49m\u001b[43m \u001b[49m\u001b[43mn_prototypes\u001b[49m\u001b[43m \u001b[49m\u001b[38;5;241;43m=\u001b[39;49m\u001b[43m \u001b[49m\u001b[38;5;241;43m3\u001b[39;49m\u001b[43m,\u001b[49m\u001b[43m \u001b[49m\u001b[43mn_critics\u001b[49m\u001b[43m \u001b[49m\u001b[38;5;241;43m=\u001b[39;49m\u001b[43m \u001b[49m\u001b[38;5;241;43m3\u001b[39;49m\u001b[43m,\u001b[49m\u001b[43m \u001b[49m\u001b[43mrecord\u001b[49m\u001b[43m \u001b[49m\u001b[38;5;241;43m=\u001b[39;49m\u001b[43m \u001b[49m\u001b[38;5;28;43;01mTrue\u001b[39;49;00m\u001b[43m)\u001b[49m\n",
      "File \u001b[0;32m~/Mirroring Google Drive/Projects/mmd_critic/notebook/../mmdcritic/myfunctions.py:196\u001b[0m, in \u001b[0;36mmmd_critic\u001b[0;34m(x, n_prototypes, n_critics, record, metric, alpha)\u001b[0m\n\u001b[1;32m    184\u001b[0m \u001b[38;5;28;01mdef\u001b[39;00m \u001b[38;5;21mmmd_critic\u001b[39m(x: np\u001b[38;5;241m.\u001b[39mndarray, n_prototypes: \u001b[38;5;28mint\u001b[39m, n_critics: \u001b[38;5;28mint\u001b[39m, record \u001b[38;5;241m=\u001b[39m \u001b[38;5;28;01mFalse\u001b[39;00m, metric \u001b[38;5;241m=\u001b[39m \u001b[38;5;124m'\u001b[39m\u001b[38;5;124mrbf\u001b[39m\u001b[38;5;124m'\u001b[39m, alpha \u001b[38;5;241m=\u001b[39m \u001b[38;5;241m1\u001b[39m):\n\u001b[1;32m    186\u001b[0m     \u001b[38;5;124;03m'''\u001b[39;00m\n\u001b[1;32m    187\u001b[0m \u001b[38;5;124;03m    Apply MMD Critic algorithm.\u001b[39;00m\n\u001b[1;32m    188\u001b[0m \u001b[38;5;124;03m    Input:\u001b[39;00m\n\u001b[0;32m   (...)\u001b[0m\n\u001b[1;32m    194\u001b[0m \u001b[38;5;124;03m        - set of critics (n_critics, n_features)\u001b[39;00m\n\u001b[1;32m    195\u001b[0m \u001b[38;5;124;03m    '''\u001b[39;00m\n\u001b[0;32m--> 196\u001b[0m     prototypes \u001b[38;5;241m=\u001b[39m \u001b[43mfind_prototypes\u001b[49m\u001b[43m(\u001b[49m\u001b[43mx\u001b[49m\u001b[43m,\u001b[49m\u001b[43m \u001b[49m\u001b[43mn_prototypes\u001b[49m\u001b[43m,\u001b[49m\u001b[43m \u001b[49m\u001b[43mrecord\u001b[49m\u001b[43m \u001b[49m\u001b[38;5;241;43m=\u001b[39;49m\u001b[43m \u001b[49m\u001b[43mrecord\u001b[49m\u001b[43m,\u001b[49m\u001b[43m \u001b[49m\u001b[43mmetric\u001b[49m\u001b[43m \u001b[49m\u001b[38;5;241;43m=\u001b[39;49m\u001b[43m \u001b[49m\u001b[43mmetric\u001b[49m\u001b[43m)\u001b[49m\n\u001b[1;32m    197\u001b[0m     critics \u001b[38;5;241m=\u001b[39m find_critics(x, prototypes[\u001b[38;5;241m0\u001b[39m], n_critics, record \u001b[38;5;241m=\u001b[39m record, metric \u001b[38;5;241m=\u001b[39m metric, alpha \u001b[38;5;241m=\u001b[39m alpha)\n\u001b[1;32m    199\u001b[0m     \u001b[38;5;28;01mreturn\u001b[39;00m prototypes, critics\n",
      "\u001b[0;31mTypeError\u001b[0m: find_prototypes() got an unexpected keyword argument 'metric'"
     ]
    }
   ],
   "source": [
    "mmd_critic(data, n_prototypes = 3, n_critics = 3, record = True)"
   ]
  },
  {
   "cell_type": "code",
   "execution_count": null,
   "id": "32be4d6c-3ac7-43ab-b905-71c6f622022c",
   "metadata": {},
   "outputs": [],
   "source": []
  }
 ],
 "metadata": {
  "kernelspec": {
   "display_name": "Python 3 (ipykernel)",
   "language": "python",
   "name": "python3"
  },
  "language_info": {
   "codemirror_mode": {
    "name": "ipython",
    "version": 3
   },
   "file_extension": ".py",
   "mimetype": "text/x-python",
   "name": "python",
   "nbconvert_exporter": "python",
   "pygments_lexer": "ipython3",
   "version": "3.8.13"
  }
 },
 "nbformat": 4,
 "nbformat_minor": 5
}
